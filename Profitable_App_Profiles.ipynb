{
 "cells": [
  {
   "cell_type": "markdown",
   "id": "4276cdb8",
   "metadata": {},
   "source": [
    "__Profitable App Profiles for the App Store and Google Play Markets__\n",
    "\n",
    "This Project simulates real world scenario of __data analysis__ of __Android__ and __iOS__ mobile apps.\n",
    "\n",
    "__Aim__ of this project is to find _mobile app profiles_ for the App Store and Google Play markets. The project simulates a __data analyst's__ task in a company that builds Android and iOS mobile apps, that enables team of __developers__ to make data_driven decisions with respect to the kind of apps they build.\n",
    "\n",
    "Presumably the company, builds apps that are free to download and install, and main source of revenue consists of in-app ads. This means that revenue for any given app is mostly influenced by the __number of users__ that use the app.\n",
    "__Goal__ for this project is to analyze data to help developers understand what kind of apps are likely to attract more users.\n",
    "\n",
    "Starting initially by opening the two data sets and then continue with exploring data"
   ]
  },
  {
   "cell_type": "code",
   "execution_count": 1,
   "id": "24739604",
   "metadata": {},
   "outputs": [],
   "source": [
    "from csv import reader\n",
    "\n",
    "### The Google Play data set ###\n",
    "opened_file=open('/media/sudipto/New Volume/690/Python/datasets/googleplaystore.csv', encoding='utf8')\n",
    "read_file=reader(opened_file)\n",
    "android=list(read_file)\n",
    "android_header=android[0]\n",
    "android=android[1:]\n",
    "\n",
    "### The App Store data set ###\n",
    "opened_file=open('/media/sudipto/New Volume/690/Python/datasets/AppleStore.csv')\n",
    "read_file=reader(opened_file)\n",
    "ios=list(read_file)\n",
    "ios_header=ios[0]\n",
    "ios=ios[1:]\n"
   ]
  },
  {
   "cell_type": "markdown",
   "id": "8226ccb4",
   "metadata": {},
   "source": [
    "Below is a function named __explore_data()__, this function will be repeatedly invoked to explore rows in a more redable way"
   ]
  },
  {
   "cell_type": "code",
   "execution_count": 2,
   "id": "01cbe4a3",
   "metadata": {},
   "outputs": [
    {
     "name": "stdout",
     "output_type": "stream",
     "text": [
      "## android dataset header: \n",
      "\n",
      "\n",
      "['App', 'Category', 'Rating', 'Reviews', 'Size', 'Installs', 'Type', 'Price', 'Content Rating', 'Genres', 'Last Updated', 'Current Ver', 'Android Ver']\n",
      "\n",
      "\n",
      "## android dataset first two rows\n",
      "\n",
      "\n",
      "row : 1\n",
      "['Photo Editor & Candy Camera & Grid & ScrapBook', 'ART_AND_DESIGN', '4.1', '159', '19M', '10,000+', 'Free', '0', 'Everyone', 'Art & Design', 'January 7, 2018', '1.0.0', '4.0.3 and up']\n",
      "\n",
      "\n",
      "row : 2\n",
      "['Coloring book moana', 'ART_AND_DESIGN', '3.9', '967', '14M', '500,000+', 'Free', '0', 'Everyone', 'Art & Design;Pretend Play', 'January 15, 2018', '2.0.0', '4.0.3 and up']\n",
      "\n",
      "\n",
      "Number of rows: 10841\n",
      "Number of columns: 13\n",
      "None\n",
      "\n",
      "\n",
      "## iOS appstore dataset header\n",
      "\n",
      "\n",
      "['id', 'track_name', 'size_bytes', 'currency', 'price', 'rating_count_tot', 'rating_count_ver', 'user_rating', 'user_rating_ver', 'ver', 'cont_rating', 'prime_genre', 'sup_devices.num', 'ipadSc_urls.num', 'lang.num', 'vpp_lic']\n",
      "\n",
      "\n",
      "## iOS dataset first row\n",
      "\n",
      "\n",
      "row : 1\n",
      "['284882215', 'Facebook', '389879808', 'USD', '0.0', '2974676', '212', '3.5', '3.5', '95.0', '4+', 'Social Networking', '37', '1', '29', '1']\n",
      "\n",
      "\n",
      "Number of rows: 7197\n",
      "Number of columns: 16\n",
      "None\n"
     ]
    }
   ],
   "source": [
    "def explore_data(dataset, start, end, rows_and_columns=False):\n",
    "    dataset_slice=dataset[start:end]\n",
    "    count=start\n",
    "    for row in dataset_slice:\n",
    "        count+=1\n",
    "        print('row : ' + str(count))\n",
    "        print(row)\n",
    "        print('\\n')\n",
    "    if rows_and_columns:\n",
    "        print('Number of rows:', len(dataset))\n",
    "        print('Number of columns:', len(dataset[0]))\n",
    "\n",
    "\n",
    "print('## android dataset header: ')\n",
    "print('\\n')\n",
    "print(android_header)\n",
    "print('\\n')\n",
    "print('## android dataset first two rows')\n",
    "print('\\n')\n",
    "print(explore_data(android, 0, 2, True))\n",
    "\n",
    "print('\\n')\n",
    "\n",
    "print('## iOS appstore dataset header')\n",
    "print('\\n')\n",
    "print(ios_header)\n",
    "print('\\n')\n",
    "print('## iOS dataset first row')\n",
    "print('\\n')\n",
    "print(explore_data(ios, 0, 1, True))"
   ]
  },
  {
   "cell_type": "markdown",
   "id": "bcb8ab5d",
   "metadata": {},
   "source": [
    "__googleplaystore__ dataset documentation : https://www.kaggle.com/lava18/google-play-store-apps<br/>\n",
    "__applestore__ dataset documentation : https://www.kaggle.com/ramamet4/app-store-apple-data-set-10k-apps"
   ]
  },
  {
   "cell_type": "markdown",
   "id": "99c31164",
   "metadata": {},
   "source": [
    "__Deleting wrong data__\n",
    "\n",
    "Previously, I have opened the datasets and explored the data. Before analysis, it should be made sure that the data is __accurate__, or the results of the analysis might be __wrong__. To ensure such the follwing need to be done:\n",
    "\n",
    "1. Detect inaccurate data, and correct or remove it.\n",
    "2. Detect duplicate data, and remove duplicates. \n",
    "\n",
    "As this project focuses on apps that are free to install and download, and for English-speaking audience.\n",
    "\n",
    "1. Filter apps that are not in English language.\n",
    "2. Filter apps that are not free.\n",
    "\n",
    "The above mentioned process of data preparation is called __data cleaning__."
   ]
  },
  {
   "cell_type": "markdown",
   "id": "e0a8842b",
   "metadata": {},
   "source": [
    "The discussions section has a mention that rating at entry 10472 is wrong.\n",
    "    I will try to print the row at that index to check if it's incorrect."
   ]
  },
  {
   "cell_type": "code",
   "execution_count": 3,
   "id": "09fd8582",
   "metadata": {},
   "outputs": [
    {
     "name": "stdout",
     "output_type": "stream",
     "text": [
      "['App', 'Category', 'Rating', 'Reviews', 'Size', 'Installs', 'Type', 'Price', 'Content Rating', 'Genres', 'Last Updated', 'Current Ver', 'Android Ver']\n",
      "row : 10472\n",
      "['Xposed Wi-Fi-Pwd', 'PERSONALIZATION', '3.5', '1042', '404k', '100,000+', 'Free', '0', 'Everyone', 'Personalization', 'August 5, 2014', '3.0.0', '4.0.3 and up']\n",
      "\n",
      "\n",
      "row : 10473\n",
      "['Life Made WI-Fi Touchscreen Photo Frame', '1.9', '19', '3.0M', '1,000+', 'Free', '0', 'Everyone', '', 'February 11, 2018', '1.0.19', '4.0 and up']\n",
      "\n",
      "\n",
      "Number of rows: 10841\n",
      "Number of columns: 13\n",
      "None\n"
     ]
    }
   ],
   "source": [
    "print(android_header)\n",
    "print(explore_data(android, 10471, 10473, True))"
   ]
  },
  {
   "cell_type": "markdown",
   "id": "2e0f1af3",
   "metadata": {},
   "source": [
    "As evident from the above function return that the row has errors in the __Category__ column.\n",
    "I will delete the error row to clean the dataset of errors.\n"
   ]
  },
  {
   "cell_type": "code",
   "execution_count": 4,
   "id": "2325f90d",
   "metadata": {},
   "outputs": [
    {
     "name": "stdout",
     "output_type": "stream",
     "text": [
      "row : 10472\n",
      "['Xposed Wi-Fi-Pwd', 'PERSONALIZATION', '3.5', '1042', '404k', '100,000+', 'Free', '0', 'Everyone', 'Personalization', 'August 5, 2014', '3.0.0', '4.0.3 and up']\n",
      "\n",
      "\n",
      "row : 10473\n",
      "['osmino Wi-Fi: free WiFi', 'TOOLS', '4.2', '134203', '4.1M', '10,000,000+', 'Free', '0', 'Everyone', 'Tools', 'August 7, 2018', '6.06.14', '4.4 and up']\n",
      "\n",
      "\n",
      "row : 10474\n",
      "['Sat-Fi Voice', 'COMMUNICATION', '3.4', '37', '14M', '1,000+', 'Free', '0', 'Everyone', 'Communication', 'November 21, 2014', '2.2.1.5', '2.2 and up']\n",
      "\n",
      "\n",
      "Number of rows: 10840\n",
      "Number of columns: 13\n",
      "None\n"
     ]
    }
   ],
   "source": [
    "del android[10472] # deleting the incorrect row\n",
    "print(explore_data(android, 10471, 10474, True))"
   ]
  },
  {
   "cell_type": "markdown",
   "id": "cacdc2cb",
   "metadata": {},
   "source": [
    "__Removing duplicate entries__\n",
    "\n",
    "The discussuns sections of the dataset has mentions about redundant entries. For instance, instagram has four entries.\n"
   ]
  },
  {
   "cell_type": "code",
   "execution_count": 5,
   "id": "82c4f741",
   "metadata": {},
   "outputs": [
    {
     "name": "stdout",
     "output_type": "stream",
     "text": [
      "['Instagram', 'SOCIAL', '4.5', '66577313', 'Varies with device', '1,000,000,000+', 'Free', '0', 'Teen', 'Social', 'July 31, 2018', 'Varies with device', 'Varies with device']\n",
      "['Instagram', 'SOCIAL', '4.5', '66577446', 'Varies with device', '1,000,000,000+', 'Free', '0', 'Teen', 'Social', 'July 31, 2018', 'Varies with device', 'Varies with device']\n",
      "['Instagram', 'SOCIAL', '4.5', '66577313', 'Varies with device', '1,000,000,000+', 'Free', '0', 'Teen', 'Social', 'July 31, 2018', 'Varies with device', 'Varies with device']\n",
      "['Instagram', 'SOCIAL', '4.5', '66509917', 'Varies with device', '1,000,000,000+', 'Free', '0', 'Teen', 'Social', 'July 31, 2018', 'Varies with device', 'Varies with device']\n"
     ]
    }
   ],
   "source": [
    "for row in android[1:]:\n",
    "    name=row[0]\n",
    "    if name=='Instagram':\n",
    "        print(row)"
   ]
  },
  {
   "cell_type": "code",
   "execution_count": 6,
   "id": "69157356",
   "metadata": {},
   "outputs": [
    {
     "name": "stdout",
     "output_type": "stream",
     "text": [
      "Number of duplicate apps:  1181\n",
      "Names of duplicate apps ['Quick PDF Scanner + OCR FREE', 'Box', 'Google My Business', 'ZOOM Cloud Meetings', 'join.me - Simple Meetings']\n"
     ]
    }
   ],
   "source": [
    "# Segregating the duplicate apps and printing names of some duplicate apps\n",
    "\n",
    "duplicate_apps=[]\n",
    "unique_apps=[]\n",
    "for app in android:\n",
    "    name=app[0]\n",
    "    if name in unique_apps:\n",
    "        duplicate_apps.append(name)\n",
    "    else:\n",
    "        unique_apps.append(name)\n",
    "\n",
    "print('Number of duplicate apps: ', len(duplicate_apps))\n",
    "print('Names of duplicate apps', duplicate_apps[:5])"
   ]
  }
 ],
 "metadata": {
  "celltoolbar": "Raw Cell Format",
  "kernelspec": {
   "display_name": "Python 3 (ipykernel)",
   "language": "python",
   "name": "python3"
  },
  "language_info": {
   "codemirror_mode": {
    "name": "ipython",
    "version": 3
   },
   "file_extension": ".py",
   "mimetype": "text/x-python",
   "name": "python",
   "nbconvert_exporter": "python",
   "pygments_lexer": "ipython3",
   "version": "3.8.10"
  }
 },
 "nbformat": 4,
 "nbformat_minor": 5
}
