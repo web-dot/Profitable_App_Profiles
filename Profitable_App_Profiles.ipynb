{
 "cells": [
  {
   "cell_type": "markdown",
   "id": "4276cdb8",
   "metadata": {},
   "source": [
    "__Profitable App Profiles for the App Store and Google Play Markets__\n",
    "\n",
    "Our Aim in this project is to find _mobile app profiles_ for the App Store and Google Play markets. We're working as __data analysts__ for a company that builds Android and iOS mobile apps, and our job is to enable our team of \n",
    "__developers__ to make data_driven decisions with respect to the kind of apps they build.\n",
    "\n",
    "At our company, we only build apps that are free to download and install, and our main source of revenue consists of in-app ads. This means that our revenue for any given app is mostly influenced by the __number of users__ that use our app. Our __Goal__ for this project is to analyze data to help our developers understand what kind of apps are likely to attract more users."
   ]
  },
  {
   "cell_type": "code",
   "execution_count": null,
   "id": "24739604",
   "metadata": {},
   "outputs": [],
   "source": []
  }
 ],
 "metadata": {
  "kernelspec": {
   "display_name": "Python 3 (ipykernel)",
   "language": "python",
   "name": "python3"
  },
  "language_info": {
   "codemirror_mode": {
    "name": "ipython",
    "version": 3
   },
   "file_extension": ".py",
   "mimetype": "text/x-python",
   "name": "python",
   "nbconvert_exporter": "python",
   "pygments_lexer": "ipython3",
   "version": "3.8.10"
  }
 },
 "nbformat": 4,
 "nbformat_minor": 5
}
